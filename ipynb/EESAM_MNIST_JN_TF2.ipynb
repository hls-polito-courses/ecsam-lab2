{
  "cells": [
    {
      "cell_type": "markdown",
      "metadata": {
        "id": "eYFcv7STwwvK"
      },
      "source": [
        "# MNIST on the Jetson Nano (JN)\n",
        "The model below is an example of a very simple network for handwritten digits recognition using ReLU6 as an activation layer. The ReLU6 layer is not directly supported in the TensorRT APIs. Therefore you will provide a CUDA implementation of the corresponding plugin.\n",
        "\n",
        "Before this step, you have to train a network and import the .pb file in JN. You have two options:\n",
        "\n",
        "1.   train and then use the model below in the JN;\n",
        "2.   train a network of your choice also using ReLU6 (after flattening) and - if you feel like - possibly other TensorRT unsopported layers; then use your network in the JN.\n",
        "\n",
        "\n",
        "First of all, copy this Notebook in your Google Drive: File -> Save a copy to Drive. If you choose the first option above you can then directly run the Notebook and download the .pb file. If you choose the second option, you have to first replace the network with yours and validate it (i.e. it must be at least 98% accurate on the MNIST dataset).\n",
        "\n",
        "Note that to speed up this part we have chosen a very simple network (an MLP) and we are doing a quick-an-dirty suboptimal training. This is in fact not the goal here. Instead we want to quickly deploy the network on the JN and run inference with it.\n"
      ]
    },
    {
      "cell_type": "code",
      "execution_count": 1,
      "metadata": {
        "colab": {
          "base_uri": "https://localhost:8080/"
        },
        "id": "7eNR7eKywrW4",
        "outputId": "17a2b67e-6fdb-4975-854d-0058e3fa4f4f"
      },
      "outputs": [
        {
          "name": "stderr",
          "output_type": "stream",
          "text": [
            "/usr/local/lib/python3.6/dist-packages/tensorflow/python/framework/dtypes.py:516: FutureWarning: Passing (type, 1) or '1type' as a synonym of type is deprecated; in a future version of numpy, it will be understood as (type, (1,)) / '(1,)type'.\n",
            "  _np_qint8 = np.dtype([(\"qint8\", np.int8, 1)])\n",
            "/usr/local/lib/python3.6/dist-packages/tensorflow/python/framework/dtypes.py:517: FutureWarning: Passing (type, 1) or '1type' as a synonym of type is deprecated; in a future version of numpy, it will be understood as (type, (1,)) / '(1,)type'.\n",
            "  _np_quint8 = np.dtype([(\"quint8\", np.uint8, 1)])\n",
            "/usr/local/lib/python3.6/dist-packages/tensorflow/python/framework/dtypes.py:518: FutureWarning: Passing (type, 1) or '1type' as a synonym of type is deprecated; in a future version of numpy, it will be understood as (type, (1,)) / '(1,)type'.\n",
            "  _np_qint16 = np.dtype([(\"qint16\", np.int16, 1)])\n",
            "/usr/local/lib/python3.6/dist-packages/tensorflow/python/framework/dtypes.py:519: FutureWarning: Passing (type, 1) or '1type' as a synonym of type is deprecated; in a future version of numpy, it will be understood as (type, (1,)) / '(1,)type'.\n",
            "  _np_quint16 = np.dtype([(\"quint16\", np.uint16, 1)])\n",
            "/usr/local/lib/python3.6/dist-packages/tensorflow/python/framework/dtypes.py:520: FutureWarning: Passing (type, 1) or '1type' as a synonym of type is deprecated; in a future version of numpy, it will be understood as (type, (1,)) / '(1,)type'.\n",
            "  _np_qint32 = np.dtype([(\"qint32\", np.int32, 1)])\n",
            "/usr/local/lib/python3.6/dist-packages/tensorflow/python/framework/dtypes.py:525: FutureWarning: Passing (type, 1) or '1type' as a synonym of type is deprecated; in a future version of numpy, it will be understood as (type, (1,)) / '(1,)type'.\n",
            "  np_resource = np.dtype([(\"resource\", np.ubyte, 1)])\n"
          ]
        },
        {
          "name": "stdout",
          "output_type": "stream",
          "text": [
            "WARNING:tensorflow:From /usr/local/lib/python3.6/dist-packages/tensorflow/python/ops/init_ops.py:1251: calling VarianceScaling.__init__ (from tensorflow.python.ops.init_ops) with dtype is deprecated and will be removed in a future version.\n",
            "Instructions for updating:\n",
            "Call initializer instance with the dtype argument instead of passing it to the constructor\n"
          ]
        },
        {
          "name": "stderr",
          "output_type": "stream",
          "text": [
            "/usr/local/lib/python3.6/dist-packages/tensorboard/compat/tensorflow_stub/dtypes.py:541: FutureWarning: Passing (type, 1) or '1type' as a synonym of type is deprecated; in a future version of numpy, it will be understood as (type, (1,)) / '(1,)type'.\n",
            "  _np_qint8 = np.dtype([(\"qint8\", np.int8, 1)])\n",
            "/usr/local/lib/python3.6/dist-packages/tensorboard/compat/tensorflow_stub/dtypes.py:542: FutureWarning: Passing (type, 1) or '1type' as a synonym of type is deprecated; in a future version of numpy, it will be understood as (type, (1,)) / '(1,)type'.\n",
            "  _np_quint8 = np.dtype([(\"quint8\", np.uint8, 1)])\n",
            "/usr/local/lib/python3.6/dist-packages/tensorboard/compat/tensorflow_stub/dtypes.py:543: FutureWarning: Passing (type, 1) or '1type' as a synonym of type is deprecated; in a future version of numpy, it will be understood as (type, (1,)) / '(1,)type'.\n",
            "  _np_qint16 = np.dtype([(\"qint16\", np.int16, 1)])\n",
            "/usr/local/lib/python3.6/dist-packages/tensorboard/compat/tensorflow_stub/dtypes.py:544: FutureWarning: Passing (type, 1) or '1type' as a synonym of type is deprecated; in a future version of numpy, it will be understood as (type, (1,)) / '(1,)type'.\n",
            "  _np_quint16 = np.dtype([(\"quint16\", np.uint16, 1)])\n",
            "/usr/local/lib/python3.6/dist-packages/tensorboard/compat/tensorflow_stub/dtypes.py:545: FutureWarning: Passing (type, 1) or '1type' as a synonym of type is deprecated; in a future version of numpy, it will be understood as (type, (1,)) / '(1,)type'.\n",
            "  _np_qint32 = np.dtype([(\"qint32\", np.int32, 1)])\n",
            "/usr/local/lib/python3.6/dist-packages/tensorboard/compat/tensorflow_stub/dtypes.py:550: FutureWarning: Passing (type, 1) or '1type' as a synonym of type is deprecated; in a future version of numpy, it will be understood as (type, (1,)) / '(1,)type'.\n",
            "  np_resource = np.dtype([(\"resource\", np.ubyte, 1)])\n"
          ]
        },
        {
          "name": "stdout",
          "output_type": "stream",
          "text": [
            "Epoch 1/10\n",
            "60000/60000 [==============================] - 4s 59us/sample - loss: 0.2028 - acc: 0.9411\n",
            "Epoch 2/10\n",
            "60000/60000 [==============================] - 3s 55us/sample - loss: 0.0800 - acc: 0.9760\n",
            "Epoch 3/10\n",
            "60000/60000 [==============================] - 3s 55us/sample - loss: 0.0528 - acc: 0.9837\n",
            "Epoch 4/10\n",
            "60000/60000 [==============================] - 3s 55us/sample - loss: 0.0366 - acc: 0.9884\n",
            "Epoch 5/10\n",
            "60000/60000 [==============================] - 3s 55us/sample - loss: 0.0258 - acc: 0.9919\n",
            "Epoch 6/10\n",
            "60000/60000 [==============================] - 3s 55us/sample - loss: 0.0216 - acc: 0.9929\n",
            "Epoch 7/10\n",
            "60000/60000 [==============================] - 3s 55us/sample - loss: 0.0163 - acc: 0.9949\n",
            "Epoch 8/10\n",
            "60000/60000 [==============================] - 3s 54us/sample - loss: 0.0139 - acc: 0.9955\n",
            "Epoch 9/10\n",
            "60000/60000 [==============================] - 3s 55us/sample - loss: 0.0146 - acc: 0.9949\n",
            "Epoch 10/10\n",
            "60000/60000 [==============================] - 3s 57us/sample - loss: 0.0090 - acc: 0.9971\n",
            "10000/10000 [==============================] - 0s 28us/sample - loss: 0.0811 - acc: 0.9807\n",
            "Test loss: 0.08108511753751445\n",
            "Test accuracy: 0.9807000160217285\n",
            "WARNING:tensorflow:From <ipython-input-1-a07799d88972>:66: convert_variables_to_constants (from tensorflow.python.framework.graph_util_impl) is deprecated and will be removed in a future version.\n",
            "Instructions for updating:\n",
            "Use `tf.compat.v1.graph_util.convert_variables_to_constants`\n",
            "WARNING:tensorflow:From /usr/local/lib/python3.6/dist-packages/tensorflow/python/framework/graph_util_impl.py:270: extract_sub_graph (from tensorflow.python.framework.graph_util_impl) is deprecated and will be removed in a future version.\n",
            "Instructions for updating:\n",
            "Use `tf.compat.v1.graph_util.extract_sub_graph`\n",
            "INFO:tensorflow:Froze 4 variables.\n",
            "INFO:tensorflow:Converted 4 variables to const ops.\n",
            "WARNING:tensorflow:From <ipython-input-1-a07799d88972>:67: remove_training_nodes (from tensorflow.python.framework.graph_util_impl) is deprecated and will be removed in a future version.\n",
            "Instructions for updating:\n",
            "Use `tf.compat.v1.graph_util.remove_training_nodes`\n"
          ]
        }
      ],
      "source": [
        "\n",
        "import tensorflow as tf\n",
        "import numpy as np\n",
        "import os\n",
        "\n",
        "# Needed to run the example with tensorflow2\n",
        "with tf.Graph().as_default():\n",
        "  #WORKING_DIR = os.environ.get(\"TRT_WORKING_DIR\") or os.path.dirname(os.path.realpath(__file__))\n",
        "  WORKING_DIR = \"./\"\n",
        "  MODEL_DIR = os.path.join(\n",
        "      WORKING_DIR,\n",
        "      'models'\n",
        "  )\n",
        "\n",
        "\n",
        "  def load_data():\n",
        "      mnist = tf.compat.v1.keras.datasets.mnist\n",
        "      (x_train, y_train),(x_test, y_test) = mnist.load_data()\n",
        "      x_train, x_test = x_train / 255.0, x_test / 255.0\n",
        "      x_train = np.reshape(x_train, (-1, 1, 28, 28))\n",
        "      x_test = np.reshape(x_test, (-1, 1, 28, 28))\n",
        "      return x_train, y_train, x_test, y_test\n",
        "\n",
        "  def build_model():\n",
        "      # Create the keras model\n",
        "      model = tf.keras.models.Sequential()\n",
        "      model.add(tf.keras.layers.InputLayer(input_shape=[1, 28, 28], name=\"InputLayer\"))\n",
        "      model.add(tf.keras.layers.Flatten())\n",
        "      model.add(tf.keras.layers.Dense(512))\n",
        "      model.add(tf.keras.layers.Activation(activation=tf.nn.relu6, name=\"ReLU6\"))\n",
        "      model.add(tf.keras.layers.Dense(10, activation=tf.nn.softmax, name=\"OutputLayer\"))\n",
        "      return model\n",
        "\n",
        "  def train_model():\n",
        "      # Build and compile model\n",
        "      model = build_model()\n",
        "      model.compile(optimizer='adam',\n",
        "                    loss='sparse_categorical_crossentropy',\n",
        "                    metrics=['accuracy'])\n",
        "\n",
        "      # Load data\n",
        "      x_train, y_train, x_test, y_test = load_data()\n",
        "\n",
        "      # Train the model on the data\n",
        "      model.fit(\n",
        "          x_train, y_train,\n",
        "          epochs = 10,\n",
        "          verbose = 1\n",
        "      )\n",
        "\n",
        "      # Evaluate the model on test data\n",
        "      test_loss, test_acc = model.evaluate(x_test, y_test)\n",
        "      print(\"Test loss: {}\\nTest accuracy: {}\".format(test_loss, test_acc))\n",
        "\n",
        "      return model\n",
        "\n",
        "  def maybe_mkdir(dir_path):\n",
        "      if not os.path.exists(dir_path):\n",
        "          os.makedirs(dir_path)\n",
        "\n",
        "  def save_model(model):\n",
        "      output_names = model.output.op.name\n",
        "      sess = tf.keras.backend.get_session()\n",
        "\n",
        "      graphdef = sess.graph.as_graph_def()\n",
        "\n",
        "      frozen_graph = tf.graph_util.convert_variables_to_constants(sess, graphdef, [output_names])\n",
        "      frozen_graph = tf.graph_util.remove_training_nodes(frozen_graph)\n",
        "\n",
        "      # Make directory to save model in if it doesn't exist already\n",
        "      maybe_mkdir(MODEL_DIR)\n",
        "\n",
        "      model_path = os.path.join(MODEL_DIR, \"trained_lenet5.pb\")\n",
        "      with open(model_path, \"wb\") as ofile:\n",
        "          ofile.write(frozen_graph.SerializeToString())\n",
        "\n",
        "\n",
        "  model = train_model()\n",
        "  save_model(model)\n",
        "\n",
        "\n"
      ]
    },
    {
      "cell_type": "code",
      "execution_count": 2,
      "metadata": {
        "colab": {
          "base_uri": "https://localhost:8080/"
        },
        "id": "Vo7utGC0bwLJ",
        "outputId": "8de1b205-567e-487b-db8f-016c64aed889"
      },
      "outputs": [
        {
          "name": "stdout",
          "output_type": "stream",
          "text": [
            "Model: \"sequential\"\n",
            "_________________________________________________________________\n",
            "Layer (type)                 Output Shape              Param #   \n",
            "=================================================================\n",
            "flatten (Flatten)            (None, 784)               0         \n",
            "_________________________________________________________________\n",
            "dense (Dense)                (None, 512)               401920    \n",
            "_________________________________________________________________\n",
            "dense_1 (Dense)              (None, 512)               262656    \n",
            "_________________________________________________________________\n",
            "dense_2 (Dense)              (None, 10)                5130      \n",
            "=================================================================\n",
            "Total params: 669,706\n",
            "Trainable params: 669,706\n",
            "Non-trainable params: 0\n",
            "_________________________________________________________________\n"
          ]
        }
      ],
      "source": [
        "import tensorflow as tf\n",
        "import numpy as np\n",
        "import os\n",
        "\n",
        "with tf.Graph().as_default():\n",
        "\n",
        "  def build_model():\n",
        "      model = tf.keras.models.Sequential()\n",
        "      model.add(tf.keras.layers.InputLayer(input_shape=[1, 28, 28], name=\"InputLayer\"))\n",
        "      model.add(tf.keras.layers.Flatten())\n",
        "      model.add(tf.keras.layers.Dense(512, activation=tf.nn.relu6))\n",
        "      model.add(tf.keras.layers.Dense(512, activation=tf.nn.relu6))\n",
        "      model.add(tf.keras.layers.Dense(10, activation=tf.nn.softmax))\n",
        "      return model\n",
        "\n",
        "  model = build_model()\n",
        "  model.compile(optimizer='adam',\n",
        "                    loss='sparse_categorical_crossentropy',\n",
        "                    metrics=['accuracy'])\n",
        "\n",
        "  model.summary()"
      ]
    }
  ],
  "metadata": {
    "accelerator": "GPU",
    "colab": {
      "provenance": [],
      "toc_visible": true
    },
    "kernelspec": {
      "display_name": "Python 3",
      "name": "python3"
    },
    "language_info": {
      "codemirror_mode": {
        "name": "ipython",
        "version": 3
      },
      "file_extension": ".py",
      "mimetype": "text/x-python",
      "name": "python",
      "nbconvert_exporter": "python",
      "pygments_lexer": "ipython3",
      "version": "3.6.9"
    }
  },
  "nbformat": 4,
  "nbformat_minor": 0
}
