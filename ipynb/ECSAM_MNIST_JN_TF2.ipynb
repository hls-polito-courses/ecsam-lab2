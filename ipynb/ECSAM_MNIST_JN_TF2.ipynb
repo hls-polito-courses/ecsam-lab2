{
  "cells": [
    {
      "cell_type": "markdown",
      "metadata": {
        "id": "eYFcv7STwwvK"
      },
      "source": [
        "# MNIST on the Jetson Nano (JN)\n",
        "The model below is an example of a very simple network for handwritten digits recognition using ReLU6 as an activation layer. The ReLU6 layer is not directly supported in the TensorRT APIs. Therefore you will provide a CUDA implementation of the corresponding plugin.\n",
        "\n",
        "Before this step, you have to train a network and import the .pb file in JN. You have two options:\n",
        "\n",
        "1.   train and then use the model below in the JN;\n",
        "2.   train a network of your choice also using ReLU6 (after flattening) and - if you feel like - possibly other TensorRT unsopported layers; then use your network in the JN.\n",
        "\n",
        "\n",
        "First of all, copy this Notebook in your Google Drive: File -> Save a copy to Drive. If you choose the first option above you can then directly run the Notebook and download the .pb file. If you choose the second option, you have to first replace the network with yours and validate it (i.e. it must be at least 98% accurate on the MNIST dataset).\n",
        "\n",
        "Note that to speed up this part we have chosen a very simple network (an MLP) and we are doing a quick-an-dirty suboptimal training. This is in fact not the goal here. Instead we want to quickly deploy the network on the JN and run inference with it.\n"
      ]
    },
    {
      "cell_type": "code",
      "execution_count": null,
      "metadata": {
        "colab": {
          "base_uri": "https://localhost:8080/"
        },
        "id": "7eNR7eKywrW4",
        "outputId": "17a2b67e-6fdb-4975-854d-0058e3fa4f4f"
      },
      "outputs": [],
      "source": [
        "\n",
        "import tensorflow as tf\n",
        "import numpy as np\n",
        "import os\n",
        "\n",
        "# Needed to run the example with tensorflow2\n",
        "with tf.Graph().as_default():\n",
        "  #WORKING_DIR = os.environ.get(\"TRT_WORKING_DIR\") or os.path.dirname(os.path.realpath(__file__))\n",
        "  WORKING_DIR = \"./\"\n",
        "  MODEL_DIR = os.path.join(\n",
        "      WORKING_DIR,\n",
        "      'models'\n",
        "  )\n",
        "\n",
        "\n",
        "  def load_data():\n",
        "      mnist = tf.compat.v1.keras.datasets.mnist\n",
        "      (x_train, y_train),(x_test, y_test) = mnist.load_data()\n",
        "      x_train, x_test = x_train / 255.0, x_test / 255.0\n",
        "      x_train = np.reshape(x_train, (-1, 1, 28, 28))\n",
        "      x_test = np.reshape(x_test, (-1, 1, 28, 28))\n",
        "      return x_train, y_train, x_test, y_test\n",
        "\n",
        "  def build_model():\n",
        "      # Create the keras model\n",
        "      model = tf.keras.models.Sequential()\n",
        "      model.add(tf.keras.layers.InputLayer(input_shape=[1, 28, 28], name=\"InputLayer\"))\n",
        "      model.add(tf.keras.layers.Flatten())\n",
        "      model.add(tf.keras.layers.Dense(512))\n",
        "      model.add(tf.keras.layers.Activation(activation=tf.nn.relu6, name=\"ReLU6\"))\n",
        "      model.add(tf.keras.layers.Dense(10, activation=tf.nn.softmax, name=\"OutputLayer\"))\n",
        "      return model\n",
        "\n",
        "  def train_model():\n",
        "      # Build and compile model\n",
        "      model = build_model()\n",
        "      model.compile(optimizer='adam',\n",
        "                    loss='sparse_categorical_crossentropy',\n",
        "                    metrics=['accuracy'])\n",
        "\n",
        "      # Load data\n",
        "      x_train, y_train, x_test, y_test = load_data()\n",
        "\n",
        "      # Train the model on the data\n",
        "      model.fit(\n",
        "          x_train, y_train,\n",
        "          epochs = 10,\n",
        "          verbose = 1\n",
        "      )\n",
        "\n",
        "      # Evaluate the model on test data\n",
        "      test_loss, test_acc = model.evaluate(x_test, y_test)\n",
        "      print(\"Test loss: {}\\nTest accuracy: {}\".format(test_loss, test_acc))\n",
        "\n",
        "      return model\n",
        "\n",
        "  def maybe_mkdir(dir_path):\n",
        "      if not os.path.exists(dir_path):\n",
        "          os.makedirs(dir_path)\n",
        "\n",
        "  def save_model(model):\n",
        "      output_names = model.output.op.name\n",
        "      sess = tf.keras.backend.get_session()\n",
        "\n",
        "      graphdef = sess.graph.as_graph_def()\n",
        "\n",
        "      frozen_graph = tf.graph_util.convert_variables_to_constants(sess, graphdef, [output_names])\n",
        "      frozen_graph = tf.graph_util.remove_training_nodes(frozen_graph)\n",
        "\n",
        "      # Make directory to save model in if it doesn't exist already\n",
        "      maybe_mkdir(MODEL_DIR)\n",
        "\n",
        "      model_path = os.path.join(MODEL_DIR, \"trained_lenet5.pb\")\n",
        "      with open(model_path, \"wb\") as ofile:\n",
        "          ofile.write(frozen_graph.SerializeToString())\n",
        "\n",
        "\n",
        "  model = train_model()\n",
        "  save_model(model)\n",
        "\n",
        "\n"
      ]
    },
    {
      "cell_type": "code",
      "execution_count": null,
      "metadata": {
        "colab": {
          "base_uri": "https://localhost:8080/"
        },
        "id": "Vo7utGC0bwLJ",
        "outputId": "8de1b205-567e-487b-db8f-016c64aed889"
      },
      "outputs": [],
      "source": [
        "import tensorflow as tf\n",
        "import numpy as np\n",
        "import os\n",
        "\n",
        "with tf.Graph().as_default():\n",
        "\n",
        "  def build_model():\n",
        "      model = tf.keras.models.Sequential()\n",
        "      model.add(tf.keras.layers.InputLayer(input_shape=[1, 28, 28], name=\"InputLayer\"))\n",
        "      model.add(tf.keras.layers.Flatten())\n",
        "      model.add(tf.keras.layers.Dense(512, activation=tf.nn.relu6))\n",
        "      model.add(tf.keras.layers.Dense(512, activation=tf.nn.relu6))\n",
        "      model.add(tf.keras.layers.Dense(10, activation=tf.nn.softmax))\n",
        "      return model\n",
        "\n",
        "  model = build_model()\n",
        "  model.compile(optimizer='adam',\n",
        "                    loss='sparse_categorical_crossentropy',\n",
        "                    metrics=['accuracy'])\n",
        "\n",
        "  model.summary()"
      ]
    }
  ],
  "metadata": {
    "accelerator": "GPU",
    "colab": {
      "provenance": [],
      "toc_visible": true
    },
    "kernelspec": {
      "display_name": "Python 3",
      "name": "python3"
    },
    "language_info": {
      "codemirror_mode": {
        "name": "ipython",
        "version": 3
      },
      "file_extension": ".py",
      "mimetype": "text/x-python",
      "name": "python",
      "nbconvert_exporter": "python",
      "pygments_lexer": "ipython3",
      "version": "3.6.9"
    }
  },
  "nbformat": 4,
  "nbformat_minor": 0
}
